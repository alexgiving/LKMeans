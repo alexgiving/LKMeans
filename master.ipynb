{
 "cells": [
  {
   "cell_type": "code",
   "execution_count": null,
   "metadata": {},
   "outputs": [],
   "source": [
    "from pathlib import Path\n",
    "from lib import run_experiment\n",
    "import numpy as np"
   ]
  },
  {
   "cell_type": "code",
   "execution_count": null,
   "metadata": {},
   "outputs": [],
   "source": [
    "experiments_path = Path('experiments')"
   ]
  },
  {
   "attachments": {},
   "cell_type": "markdown",
   "metadata": {},
   "source": [
    "# Experiment 1\n",
    "---\n",
    "Dimension: 20\n",
    "\n",
    "Number of clusters: 2\n",
    "\n",
    "T parameter (distance between centroids): [0.0, 0.1, 0.2, 0.3, 0.4, 0.5, 0.6, 0.7, 0.8, 0.9]\n",
    "\n",
    "P Minkowski parameter: [0.2, 0.5, 1, 2]\n",
    "\n",
    "M number of repeats: 1000\n",
    "\n",
    "N number of points: [100, 500, 1000]"
   ]
  },
  {
   "cell_type": "code",
   "execution_count": null,
   "metadata": {},
   "outputs": [],
   "source": [
    "dimension = 20\n",
    "n_clusters = 2\n",
    "T_parameter = [0., 0.1, 0.2, 0.3, 0.4, 0.5, 0.6, 0.7, 0.8, 0.9]\n",
    "minkowski_parameter = [0.2, 0.5, 1, 2]\n",
    "repeats = 1000\n",
    "n_points = [100, 500, 1000]"
   ]
  },
  {
   "cell_type": "code",
   "execution_count": null,
   "metadata": {},
   "outputs": [],
   "source": [
    "sigma_list = [1, 1]\n",
    "prob = 0.5\n",
    "mu_list = [np.array([x + [0] * (dimension-2)])\n",
    "            for x in [[-2, 0], [2, 0]]]"
   ]
  },
  {
   "cell_type": "code",
   "execution_count": null,
   "metadata": {},
   "outputs": [],
   "source": [
    "T_parameter = [0.1]\n",
    "minkowski_parameter = [0.2, 0.5, 1, 2]\n",
    "repeats = 1\n",
    "n_points = [100]"
   ]
  },
  {
   "cell_type": "code",
   "execution_count": null,
   "metadata": {},
   "outputs": [],
   "source": [
    "for points in n_points:\n",
    "    experiment_name = f'Experiment 1, N_points:{points}'\n",
    "    output_path = experiments_path / f'experiment_1_{points}'\n",
    "\n",
    "    run_experiment(\n",
    "        dimension=dimension,\n",
    "        n_clusters=n_clusters,\n",
    "        distance_parameters=T_parameter,\n",
    "        minkowski_parameters=minkowski_parameter,\n",
    "        repeats=repeats,\n",
    "        n_points=points,\n",
    "        sigma_list=sigma_list,\n",
    "        prob=prob,\n",
    "        mu_list=mu_list,\n",
    "        experiment_name=experiment_name,\n",
    "        output_path=output_path\n",
    "    )"
   ]
  },
  {
   "attachments": {},
   "cell_type": "markdown",
   "metadata": {},
   "source": [
    "# Experiment 2\n",
    "---\n",
    "Dimension: 20\n",
    "\n",
    "Number of clusters: 3\n",
    "\n",
    "T parameter (distance between centroids): [0.1, 0.2, 0.3, 0.4, 0.5, 0.6, 0.7, 0.8, 0.9]\n",
    "\n",
    "P Minkowski parameter: [0.2, 0.5, 1, 2]\n",
    "\n",
    "M number of repeats: 1000\n",
    "\n",
    "N number of points: [100, 500, 1000]"
   ]
  },
  {
   "cell_type": "code",
   "execution_count": null,
   "metadata": {},
   "outputs": [],
   "source": [
    "dimension = 20\n",
    "n_clusters = 3\n",
    "T_parameter = [0.1, 0.2, 0.3, 0.4, 0.5, 0.6, 0.7, 0.8, 0.9]\n",
    "minkowski_parameter = [0.2, 0.5, 1, 2]\n",
    "repeats = 1000\n",
    "n_points = [100, 500, 1000]"
   ]
  },
  {
   "cell_type": "code",
   "execution_count": null,
   "metadata": {},
   "outputs": [],
   "source": [
    "sigma_list = [1, 1, 1]\n",
    "prob = 1/3\n",
    "mu_list = [np.array([x + [0] * (dimension-3)])\n",
    "            for x in [[3, 0, 0], [0, 3, 0], [0, 0, 3]]]"
   ]
  },
  {
   "cell_type": "code",
   "execution_count": null,
   "metadata": {},
   "outputs": [],
   "source": [
    "T_parameter = [0.1]\n",
    "minkowski_parameter = [0.2, 0.5, 1, 2]\n",
    "repeats = 1\n",
    "n_points = [100]"
   ]
  },
  {
   "cell_type": "code",
   "execution_count": null,
   "metadata": {},
   "outputs": [],
   "source": [
    "for points in n_points:\n",
    "    experiment_name = f'Experiment 1, N_points:{points}'\n",
    "    output_path = experiments_path / f'experiment_1_{points}'\n",
    "\n",
    "    run_experiment(\n",
    "        dimension=dimension,\n",
    "        n_clusters=n_clusters,\n",
    "        distance_parameters=T_parameter,\n",
    "        minkowski_parameters=minkowski_parameter,\n",
    "        repeats=repeats,\n",
    "        n_points=points,\n",
    "        sigma_list=sigma_list,\n",
    "        prob=prob,\n",
    "        mu_list=mu_list,\n",
    "        experiment_name=experiment_name,\n",
    "        output_path=output_path\n",
    "    )"
   ]
  }
 ],
 "metadata": {
  "kernelspec": {
   "display_name": "Python 3",
   "language": "python",
   "name": "python3"
  },
  "language_info": {
   "codemirror_mode": {
    "name": "ipython",
    "version": 3
   },
   "file_extension": ".py",
   "mimetype": "text/x-python",
   "name": "python",
   "nbconvert_exporter": "python",
   "pygments_lexer": "ipython3",
   "version": "3.10.10"
  },
  "orig_nbformat": 4,
  "vscode": {
   "interpreter": {
    "hash": "31f2aee4e71d21fbe5cf8b01ff0e069b9275f58929596ceb00d14d90e3e16cd6"
   }
  }
 },
 "nbformat": 4,
 "nbformat_minor": 2
}
