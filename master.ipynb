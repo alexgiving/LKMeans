{
 "cells": [
  {
   "cell_type": "code",
   "execution_count": 1,
   "metadata": {},
   "outputs": [],
   "source": [
    "from pathlib import Path\n",
    "from lib import run_experiment"
   ]
  },
  {
   "cell_type": "code",
   "execution_count": 2,
   "metadata": {},
   "outputs": [],
   "source": [
    "experiments_path = Path('experiments')"
   ]
  },
  {
   "attachments": {},
   "cell_type": "markdown",
   "metadata": {},
   "source": [
    "# Experiment 1\n",
    "---\n",
    "Dimension: 20\n",
    "\n",
    "Number of clusters: 2\n",
    "\n",
    "T parameter (distance between centroids): [0.0, 0.1, 0.2, 0.3, 0.4, 0.5, 0.6, 0.7, 0.8, 0.9]\n",
    "\n",
    "P Minkowski parameter: [0.2, 0.5, 1, 2]\n",
    "\n",
    "M number of repeats: 1000\n",
    "\n",
    "N number of points: [100, 500, 1000]"
   ]
  },
  {
   "cell_type": "code",
   "execution_count": 5,
   "metadata": {},
   "outputs": [],
   "source": [
    "dimension = 20\n",
    "n_clusters = 2\n",
    "T_parameter = [0., 0.1, 0.2, 0.3, 0.4, 0.5, 0.6, 0.7, 0.8, 0.9]\n",
    "minkowski_parameter = [0.2, 0.5, 1, 2]\n",
    "repeats = 1000\n",
    "n_points = [100, 500, 1000]"
   ]
  },
  {
   "cell_type": "code",
   "execution_count": 6,
   "metadata": {},
   "outputs": [],
   "source": [
    "repeats = 5\n",
    "n_points = [500]"
   ]
  },
  {
   "cell_type": "code",
   "execution_count": null,
   "metadata": {},
   "outputs": [],
   "source": [
    "for points in n_points:\n",
    "    experiment_name = f'Experiment 1, N_points:{points}'\n",
    "    output_path = experiments_path / f'experiment_1_{points}'\n",
    "\n",
    "    run_experiment(\n",
    "        dimension=dimension,\n",
    "        n_clusters=n_clusters,\n",
    "        distance_parameters=T_parameter,\n",
    "        minkowski_parameters=minkowski_parameter,\n",
    "        repeats=repeats,\n",
    "        n_points=points,\n",
    "        experiment_name=experiment_name,\n",
    "        output_path=output_path\n",
    "    )"
   ]
  },
  {
   "attachments": {},
   "cell_type": "markdown",
   "metadata": {},
   "source": [
    "# Experiment 2\n",
    "---\n",
    "Dimension: 20\n",
    "\n",
    "Number of clusters: 3\n",
    "\n",
    "T parameter (distance between centroids): [0.1, 0.2, 0.3, 0.4, 0.5, 0.6, 0.7, 0.8, 0.9]\n",
    "\n",
    "P Minkowski parameter: [0.2, 0.5, 1, 2]\n",
    "\n",
    "M number of repeats: 1000\n",
    "\n",
    "N number of points: [100, 500, 1000]"
   ]
  },
  {
   "cell_type": "code",
   "execution_count": null,
   "metadata": {},
   "outputs": [],
   "source": [
    "dimension = 20\n",
    "n_clusters = 3\n",
    "T_parameter = [0.1, 0.2, 0.3, 0.4, 0.5, 0.6, 0.7, 0.8, 0.9]\n",
    "minkowski_parameter = [0.2, 0.5, 1, 2]\n",
    "repeats = 1000\n",
    "n_points = [100, 500, 1000]"
   ]
  },
  {
   "cell_type": "code",
   "execution_count": null,
   "metadata": {},
   "outputs": [],
   "source": [
    "repeats = 1"
   ]
  },
  {
   "cell_type": "code",
   "execution_count": null,
   "metadata": {},
   "outputs": [],
   "source": []
  }
 ],
 "metadata": {
  "kernelspec": {
   "display_name": "Python 3",
   "language": "python",
   "name": "python3"
  },
  "language_info": {
   "codemirror_mode": {
    "name": "ipython",
    "version": 3
   },
   "file_extension": ".py",
   "mimetype": "text/x-python",
   "name": "python",
   "nbconvert_exporter": "python",
   "pygments_lexer": "ipython3",
   "version": "3.10.10"
  },
  "orig_nbformat": 4,
  "vscode": {
   "interpreter": {
    "hash": "31f2aee4e71d21fbe5cf8b01ff0e069b9275f58929596ceb00d14d90e3e16cd6"
   }
  }
 },
 "nbformat": 4,
 "nbformat_minor": 2
}
