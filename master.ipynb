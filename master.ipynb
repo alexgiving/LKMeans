{
 "cells": [
  {
   "cell_type": "code",
   "execution_count": 1,
   "metadata": {},
   "outputs": [],
   "source": [
    "from pathlib import Path\n",
    "from lib import run_experiment"
   ]
  },
  {
   "cell_type": "code",
   "execution_count": 2,
   "metadata": {},
   "outputs": [],
   "source": [
    "experiments_path = Path('experiments')"
   ]
  },
  {
   "attachments": {},
   "cell_type": "markdown",
   "metadata": {},
   "source": [
    "# Experiment 1\n",
    "---\n",
    "Dimension: 20\n",
    "\n",
    "Number of clusters: 2\n",
    "\n",
    "T parameter (distance between centroids): [0.0, 0.1, 0.2, 0.3, 0.4, 0.5, 0.6, 0.7, 0.8, 0.9]\n",
    "\n",
    "P Minkowski parameter: [0.2, 0.5, 1, 2]\n",
    "\n",
    "M number of repeats: 1000\n",
    "\n",
    "N number of points: [100, 500, 1000]"
   ]
  },
  {
   "cell_type": "code",
   "execution_count": 3,
   "metadata": {},
   "outputs": [],
   "source": [
    "dimension = 20\n",
    "n_clusters = 2\n",
    "T_parameter = [0., 0.1, 0.2, 0.3, 0.4, 0.5, 0.6, 0.7, 0.8, 0.9]\n",
    "minkowski_parameter = [0.2, 0.5, 1, 2]\n",
    "repeats = 1000\n",
    "n_points = [100, 500, 1000]"
   ]
  },
  {
   "cell_type": "code",
   "execution_count": 4,
   "metadata": {},
   "outputs": [],
   "source": [
    "repeats = 1\n",
    "n_points = [100]\n",
    "T_parameter = [2]\n",
    "minkowski_parameter = [0.2]"
   ]
  },
  {
   "cell_type": "code",
   "execution_count": 5,
   "metadata": {},
   "outputs": [
    {
     "name": "stderr",
     "output_type": "stream",
     "text": [
      "/Users/alexgiving/Documents/diploma/venv/lib/python3.10/site-packages/scipy/optimize/_optimize.py:353: RuntimeWarning: Values in x were outside bounds during a minimize step, clipping to bounds\n",
      "  warnings.warn(\"Values in x were outside bounds during a \"\n"
     ]
    },
    {
     "ename": "ValueError",
     "evalue": "operands could not be broadcast together with shapes (20,) (74,) ",
     "output_type": "error",
     "traceback": [
      "\u001b[0;31m---------------------------------------------------------------------------\u001b[0m",
      "\u001b[0;31mValueError\u001b[0m                                Traceback (most recent call last)",
      "Cell \u001b[0;32mIn[5], line 5\u001b[0m\n\u001b[1;32m      2\u001b[0m experiment_name \u001b[39m=\u001b[39m \u001b[39mf\u001b[39m\u001b[39m'\u001b[39m\u001b[39mExperiment 1, N_points:\u001b[39m\u001b[39m{\u001b[39;00mpoints\u001b[39m}\u001b[39;00m\u001b[39m'\u001b[39m\n\u001b[1;32m      3\u001b[0m output_path \u001b[39m=\u001b[39m experiments_path \u001b[39m/\u001b[39m \u001b[39mf\u001b[39m\u001b[39m'\u001b[39m\u001b[39mexperiment_1_\u001b[39m\u001b[39m{\u001b[39;00mpoints\u001b[39m}\u001b[39;00m\u001b[39m'\u001b[39m\n\u001b[0;32m----> 5\u001b[0m run_experiment(\n\u001b[1;32m      6\u001b[0m     dimension\u001b[39m=\u001b[39;49mdimension,\n\u001b[1;32m      7\u001b[0m     n_clusters\u001b[39m=\u001b[39;49mn_clusters,\n\u001b[1;32m      8\u001b[0m     distance_parameters\u001b[39m=\u001b[39;49mT_parameter,\n\u001b[1;32m      9\u001b[0m     minkowski_parameters\u001b[39m=\u001b[39;49mminkowski_parameter,\n\u001b[1;32m     10\u001b[0m     repeats\u001b[39m=\u001b[39;49mrepeats,\n\u001b[1;32m     11\u001b[0m     n_points\u001b[39m=\u001b[39;49mpoints,\n\u001b[1;32m     12\u001b[0m     experiment_name\u001b[39m=\u001b[39;49mexperiment_name,\n\u001b[1;32m     13\u001b[0m     output_path\u001b[39m=\u001b[39;49moutput_path\n\u001b[1;32m     14\u001b[0m )\n",
      "File \u001b[0;32m~/Documents/diploma/lib/experiment.py:54\u001b[0m, in \u001b[0;36mrun_experiment\u001b[0;34m(dimension, n_clusters, distance_parameters, minkowski_parameters, repeats, n_points, experiment_name, output_path, makes_plot)\u001b[0m\n\u001b[1;32m     52\u001b[0m experiment_time \u001b[39m=\u001b[39m time\u001b[39m.\u001b[39mperf_counter()\n\u001b[1;32m     53\u001b[0m kmeans \u001b[39m=\u001b[39m KMeans(n_clusters\u001b[39m=\u001b[39mn_clusters, p\u001b[39m=\u001b[39mp)\n\u001b[0;32m---> 54\u001b[0m _, generated_labels \u001b[39m=\u001b[39m kmeans\u001b[39m.\u001b[39;49mfit(clusters)\n\u001b[1;32m     56\u001b[0m repeats_time\u001b[39m.\u001b[39mappend(time\u001b[39m.\u001b[39mperf_counter()\u001b[39m-\u001b[39mexperiment_time)\n\u001b[1;32m     57\u001b[0m repeats_ari\u001b[39m.\u001b[39mappend(adjusted_rand_score(labels, generated_labels))\n",
      "File \u001b[0;32m~/Documents/diploma/lib/kmeans.py:118\u001b[0m, in \u001b[0;36mKMeans.fit\u001b[0;34m(self, X)\u001b[0m\n\u001b[1;32m    116\u001b[0m \u001b[39m# assign each data point to the closest centroid\u001b[39;00m\n\u001b[1;32m    117\u001b[0m \u001b[39mfor\u001b[39;00m x \u001b[39min\u001b[39;00m X:\n\u001b[0;32m--> 118\u001b[0m     distances_to_each_cebtroid \u001b[39m=\u001b[39m [minkowski_distance(\n\u001b[1;32m    119\u001b[0m         x, centroid, \u001b[39mself\u001b[39m\u001b[39m.\u001b[39mp) \u001b[39mfor\u001b[39;00m centroid \u001b[39min\u001b[39;00m \u001b[39mself\u001b[39m\u001b[39m.\u001b[39mcentroids]\n\u001b[1;32m    120\u001b[0m     closest_centroid \u001b[39m=\u001b[39m np\u001b[39m.\u001b[39margmin(distances_to_each_cebtroid)\n\u001b[1;32m    121\u001b[0m     clusters[closest_centroid]\u001b[39m.\u001b[39mappend(x)\n",
      "File \u001b[0;32m~/Documents/diploma/lib/kmeans.py:118\u001b[0m, in \u001b[0;36m<listcomp>\u001b[0;34m(.0)\u001b[0m\n\u001b[1;32m    116\u001b[0m \u001b[39m# assign each data point to the closest centroid\u001b[39;00m\n\u001b[1;32m    117\u001b[0m \u001b[39mfor\u001b[39;00m x \u001b[39min\u001b[39;00m X:\n\u001b[0;32m--> 118\u001b[0m     distances_to_each_cebtroid \u001b[39m=\u001b[39m [minkowski_distance(\n\u001b[1;32m    119\u001b[0m         x, centroid, \u001b[39mself\u001b[39;49m\u001b[39m.\u001b[39;49mp) \u001b[39mfor\u001b[39;00m centroid \u001b[39min\u001b[39;00m \u001b[39mself\u001b[39m\u001b[39m.\u001b[39mcentroids]\n\u001b[1;32m    120\u001b[0m     closest_centroid \u001b[39m=\u001b[39m np\u001b[39m.\u001b[39margmin(distances_to_each_cebtroid)\n\u001b[1;32m    121\u001b[0m     clusters[closest_centroid]\u001b[39m.\u001b[39mappend(x)\n",
      "File \u001b[0;32m~/Documents/diploma/lib/minkowski.py:8\u001b[0m, in \u001b[0;36mminkowski_distance\u001b[0;34m(point_a, point_b, p)\u001b[0m\n\u001b[1;32m      4\u001b[0m \u001b[39mdef\u001b[39;00m \u001b[39mminkowski_distance\u001b[39m(point_a: np\u001b[39m.\u001b[39mndarray, point_b: np\u001b[39m.\u001b[39mndarray, p: \u001b[39mfloat\u001b[39m) \u001b[39m-\u001b[39m\u001b[39m>\u001b[39m np\u001b[39m.\u001b[39mndarray:\n\u001b[1;32m      5\u001b[0m \u001b[39m    \u001b[39m\u001b[39m'''\u001b[39;00m\n\u001b[1;32m      6\u001b[0m \u001b[39m    Minkowski distance function.\u001b[39;00m\n\u001b[1;32m      7\u001b[0m \u001b[39m    '''\u001b[39;00m\n\u001b[0;32m----> 8\u001b[0m     absolute_difference \u001b[39m=\u001b[39m np\u001b[39m.\u001b[39mabs(point_a \u001b[39m-\u001b[39;49m point_b)\n\u001b[1;32m      9\u001b[0m     power_in_sum \u001b[39m=\u001b[39m np\u001b[39m.\u001b[39mpower(absolute_difference, p)\n\u001b[1;32m     10\u001b[0m     summa \u001b[39m=\u001b[39m np\u001b[39m.\u001b[39msum(power_in_sum)\n",
      "\u001b[0;31mValueError\u001b[0m: operands could not be broadcast together with shapes (20,) (74,) "
     ]
    }
   ],
   "source": [
    "for points in n_points:\n",
    "    experiment_name = f'Experiment 1, N_points:{points}'\n",
    "    output_path = experiments_path / f'experiment_1_{points}'\n",
    "\n",
    "    run_experiment(\n",
    "        dimension=dimension,\n",
    "        n_clusters=n_clusters,\n",
    "        distance_parameters=T_parameter,\n",
    "        minkowski_parameters=minkowski_parameter,\n",
    "        repeats=repeats,\n",
    "        n_points=points,\n",
    "        experiment_name=experiment_name,\n",
    "        output_path=output_path\n",
    "    )"
   ]
  },
  {
   "attachments": {},
   "cell_type": "markdown",
   "metadata": {},
   "source": [
    "# Experiment 2\n",
    "---\n",
    "Dimension: 20\n",
    "\n",
    "Number of clusters: 3\n",
    "\n",
    "T parameter (distance between centroids): [0.1, 0.2, 0.3, 0.4, 0.5, 0.6, 0.7, 0.8, 0.9]\n",
    "\n",
    "P Minkowski parameter: [0.2, 0.5, 1, 2]\n",
    "\n",
    "M number of repeats: 1000\n",
    "\n",
    "N number of points: [100, 500, 1000]"
   ]
  },
  {
   "cell_type": "code",
   "execution_count": null,
   "metadata": {},
   "outputs": [],
   "source": [
    "dimension = 20\n",
    "n_clusters = 3\n",
    "T_parameter = [0.1, 0.2, 0.3, 0.4, 0.5, 0.6, 0.7, 0.8, 0.9]\n",
    "minkowski_parameter = [0.2, 0.5, 1, 2]\n",
    "repeats = 1000\n",
    "n_points = [100, 500, 1000]"
   ]
  },
  {
   "cell_type": "code",
   "execution_count": null,
   "metadata": {},
   "outputs": [],
   "source": [
    "repeats = 1"
   ]
  },
  {
   "cell_type": "code",
   "execution_count": null,
   "metadata": {},
   "outputs": [],
   "source": []
  }
 ],
 "metadata": {
  "kernelspec": {
   "display_name": "Python 3",
   "language": "python",
   "name": "python3"
  },
  "language_info": {
   "codemirror_mode": {
    "name": "ipython",
    "version": 3
   },
   "file_extension": ".py",
   "mimetype": "text/x-python",
   "name": "python",
   "nbconvert_exporter": "python",
   "pygments_lexer": "ipython3",
   "version": "3.10.10"
  },
  "orig_nbformat": 4,
  "vscode": {
   "interpreter": {
    "hash": "31f2aee4e71d21fbe5cf8b01ff0e069b9275f58929596ceb00d14d90e3e16cd6"
   }
  }
 },
 "nbformat": 4,
 "nbformat_minor": 2
}
